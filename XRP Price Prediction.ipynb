{
 "cells": [
  {
   "cell_type": "code",
   "execution_count": 1,
   "metadata": {},
   "outputs": [
    {
     "name": "stderr",
     "output_type": "stream",
     "text": [
      "//anaconda3/lib/python3.7/site-packages/statsmodels/tools/_testing.py:19: FutureWarning: pandas.util.testing is deprecated. Use the functions in the public API at pandas.testing instead.\n",
      "  import pandas.util.testing as tm\n"
     ]
    }
   ],
   "source": [
    "import statsmodels.api as sm \n",
    "from statsmodels.tsa.stattools import grangercausalitytests\n",
    "import numpy as np\n",
    "import pandas as pd \n",
    "import matplotlib.pyplot as plt\n",
    "from statsmodels.graphics import tsaplots\n",
    "from statsmodels.tsa.stattools import adfuller\n",
    "from statsmodels.tsa.vector_ar.var_model import VAR\n",
    "from statsmodels.stats.stattools import durbin_watson\n",
    "from sklearn.metrics import mean_absolute_error\n",
    "from sklearn.metrics import mean_squared_error\n",
    "\n",
    "def excel_to_pandas(path):\n",
    "    \"\"\"This function converts a csv file into a pandas dataframe. \n",
    "    \n",
    "    Parameters:\n",
    "        Path: Where the csv file is located on the device\n",
    "    \n",
    "    Returns a pandas dataframe.\n",
    "    \"\"\"\n",
    "    New = pd.read_excel(path)\n",
    "    return New "
   ]
  },
  {
   "cell_type": "markdown",
   "metadata": {},
   "source": [
    "**1. Calling in the combined Yahoo Finance and Google Trends data**"
   ]
  },
  {
   "cell_type": "code",
   "execution_count": 2,
   "metadata": {},
   "outputs": [],
   "source": [
    "Trends_and_Price = excel_to_pandas('/Users/jacobkuhlman/Desktop/Final Project DA /Google Trends and Price/Trends_and_Price_Year.xlsx')"
   ]
  },
  {
   "cell_type": "markdown",
   "metadata": {},
   "source": [
    "**2. Extracting just the XRP data**"
   ]
  },
  {
   "cell_type": "code",
   "execution_count": 3,
   "metadata": {},
   "outputs": [],
   "source": [
    "XRP_Trends = Trends_and_Price.loc[Trends_and_Price['Cryptocurrency_type'] == 'XRP']\n",
    "XRP_Trends = XRP_Trends[['Date','Close', 'Search Volume', 'Volume']]\n",
    "XRP_Trends = XRP_Trends.set_index('Date')\n",
    "XRP_Trends = XRP_Trends.fillna(method = 'pad')"
   ]
  },
  {
   "cell_type": "markdown",
   "metadata": {},
   "source": [
    "**3. Creating a training and testing set**"
   ]
  },
  {
   "cell_type": "code",
   "execution_count": 4,
   "metadata": {},
   "outputs": [
    {
     "name": "stdout",
     "output_type": "stream",
     "text": [
      "(1736, 3) (15, 3)\n"
     ]
    }
   ],
   "source": [
    "n_obs=15\n",
    "\n",
    "X_train, X_test = XRP_Trends[0:-n_obs], XRP_Trends[-n_obs:]\n",
    "print(X_train.shape, X_test.shape)"
   ]
  },
  {
   "cell_type": "markdown",
   "metadata": {},
   "source": [
    "**4. Conducting the ADF test**"
   ]
  },
  {
   "cell_type": "code",
   "execution_count": 5,
   "metadata": {},
   "outputs": [],
   "source": [
    "X_train_transformed = X_train.diff().dropna()\n",
    "transform_data = X_train.diff().dropna()\n",
    "\n",
    "def augmented_dickey_fuller_statistics(time_series):\n",
    "    result = adfuller(time_series.values)\n",
    "    print('ADF Statistic: %f' % result[0])\n",
    "    print('p-value: %f' % result[1])\n",
    "    print('Critical Values:')\n",
    "    for key, value in result[4].items():\n",
    "        print('\\t%s: %.3f' % (key, value))\n",
    "\n",
    "        \n",
    "#print('Augmented Dickey-Fuller Test: Close Price Time Series')\n",
    "#augmented_dickey_fuller_statistics(X_train_transformed['Close'])\n",
    "\n",
    "#print('Augmented Dickey-Fuller Test: Search Volume Time Series')\n",
    "#augmented_dickey_fuller_statistics(X_train_transformed['Search Volume'])"
   ]
  },
  {
   "cell_type": "markdown",
   "metadata": {},
   "source": [
    "**5. Conducting the Granger Causality test**"
   ]
  },
  {
   "cell_type": "code",
   "execution_count": 6,
   "metadata": {},
   "outputs": [
    {
     "data": {
      "text/html": [
       "<div>\n",
       "<style scoped>\n",
       "    .dataframe tbody tr th:only-of-type {\n",
       "        vertical-align: middle;\n",
       "    }\n",
       "\n",
       "    .dataframe tbody tr th {\n",
       "        vertical-align: top;\n",
       "    }\n",
       "\n",
       "    .dataframe thead th {\n",
       "        text-align: right;\n",
       "    }\n",
       "</style>\n",
       "<table border=\"1\" class=\"dataframe\">\n",
       "  <thead>\n",
       "    <tr style=\"text-align: right;\">\n",
       "      <th></th>\n",
       "      <th>Close</th>\n",
       "      <th>Search Volume</th>\n",
       "      <th>Volume</th>\n",
       "    </tr>\n",
       "  </thead>\n",
       "  <tbody>\n",
       "    <tr>\n",
       "      <th>Close</th>\n",
       "      <td>1.0</td>\n",
       "      <td>0.0000</td>\n",
       "      <td>0.0000</td>\n",
       "    </tr>\n",
       "    <tr>\n",
       "      <th>Search Volume</th>\n",
       "      <td>0.0</td>\n",
       "      <td>1.0000</td>\n",
       "      <td>0.3574</td>\n",
       "    </tr>\n",
       "    <tr>\n",
       "      <th>Volume</th>\n",
       "      <td>0.0</td>\n",
       "      <td>0.0631</td>\n",
       "      <td>1.0000</td>\n",
       "    </tr>\n",
       "  </tbody>\n",
       "</table>\n",
       "</div>"
      ],
      "text/plain": [
       "               Close  Search Volume  Volume\n",
       "Close            1.0         0.0000  0.0000\n",
       "Search Volume    0.0         1.0000  0.3574\n",
       "Volume           0.0         0.0631  1.0000"
      ]
     },
     "execution_count": 6,
     "metadata": {},
     "output_type": "execute_result"
    }
   ],
   "source": [
    "maxlag = 12\n",
    "test = 'ssr-chi2test'\n",
    "def grangers_causality_matrix(X_train, variables, test = 'ssr_chi2test', verbose=False):\n",
    "    dataset = pd.DataFrame(np.zeros((len(variables), len(variables))), columns=variables, index=variables) \n",
    "    for c in dataset.columns:\n",
    "        for r in dataset.index:\n",
    "            test_result = grangercausalitytests(X_train[[r,c]], maxlag=maxlag, verbose=False)\n",
    "            p_values = [round(test_result[i+1][0][test][1],4) for i in range(maxlag)]\n",
    "            if verbose: print(f'Y = {r}, X = {c}, P Values = {p_values}')\n",
    "            min_p_value = np.min(p_values)\n",
    "            dataset.loc[r,c] = min_p_value\n",
    "            #dataset.columns = [var + '_x' for var in variables]\n",
    "            #dataset.index = [var + '_y' for var in variables]\n",
    "    return dataset\n",
    "grangers_causality_matrix(XRP_Trends, variables = XRP_Trends.columns)"
   ]
  },
  {
   "cell_type": "markdown",
   "metadata": {},
   "source": [
    "**6. Conducting the Vector Autoregression model**"
   ]
  },
  {
   "cell_type": "code",
   "execution_count": 7,
   "metadata": {},
   "outputs": [
    {
     "name": "stderr",
     "output_type": "stream",
     "text": [
      "//anaconda3/lib/python3.7/site-packages/statsmodels/tsa/base/tsa_model.py:165: ValueWarning: No frequency information was provided, so inferred frequency D will be used.\n",
      "  % freq, ValueWarning)\n"
     ]
    }
   ],
   "source": [
    "mod = VAR(X_train_transformed)\n",
    "res = mod.fit(maxlags=15, ic='aic')"
   ]
  },
  {
   "cell_type": "code",
   "execution_count": 8,
   "metadata": {},
   "outputs": [
    {
     "name": "stdout",
     "output_type": "stream",
     "text": [
      "Close : 2.02\n",
      "Search Volume : 2.0\n",
      "Volume : 2.0\n"
     ]
    }
   ],
   "source": [
    "out = durbin_watson(res.resid)\n",
    "for col, val in zip(transform_data.columns, out):\n",
    "    print((col), ':', round(val,2))"
   ]
  },
  {
   "cell_type": "code",
   "execution_count": 9,
   "metadata": {},
   "outputs": [],
   "source": [
    "lag_order = res.k_ar\n",
    "#print(lag_order)\n",
    "\n",
    "input_data = X_train_transformed.values[-lag_order:]\n",
    "#print(input_data)\n",
    "\n",
    "pred = res.forecast(y=input_data, steps=n_obs)\n",
    "pred = (pd.DataFrame(pred, index=X_test.index, columns=X_test.columns + '_pred'))"
   ]
  },
  {
   "cell_type": "markdown",
   "metadata": {},
   "source": [
    "**6a. Combining predicted close prices from the model with the actual close prices**"
   ]
  },
  {
   "cell_type": "code",
   "execution_count": 10,
   "metadata": {},
   "outputs": [],
   "source": [
    "def invert_transformation(X_train, pred):\n",
    "    forecast = pred.copy()\n",
    "    columns = X_train.columns\n",
    "    for col in columns:\n",
    "        forecast[str(col)+'_pred'] = X_train[col].iloc[-1] + forecast[str(col)+'_pred'].cumsum()\n",
    "        \n",
    "    return forecast\n",
    "output = invert_transformation(X_train, pred)\n",
    "combine = pd.concat([output['Close_pred'], X_test['Close']], axis=1)\n",
    "combine['accuracy'] = round(combine.apply(lambda row: row.Close_pred/row.Close *100, axis = 1),2)\n",
    "combine['accuracy'] = pd.Series([\"{0:.2f}%\".format(val) for val in combine['accuracy']],index = combine.index)\n",
    "combine = combine.round(decimals=2)\n",
    "combine = combine.reset_index()\n",
    "combine = combine.sort_values(by='Date', ascending=False)"
   ]
  },
  {
   "cell_type": "code",
   "execution_count": 11,
   "metadata": {},
   "outputs": [],
   "source": [
    "def get_year(df):\n",
    "    df['Date2'] = df['Date'].str[5:10]\n",
    "    return df\n",
    "combine = get_year(combine)\n",
    "combine = combine.iloc[::-1]"
   ]
  },
  {
   "cell_type": "markdown",
   "metadata": {},
   "source": [
    "**6c. Plotting the predicted prices vs the actual prices**"
   ]
  },
  {
   "cell_type": "code",
   "execution_count": 14,
   "metadata": {},
   "outputs": [
    {
     "data": {
      "image/png": "[encoded data removed]",
      "text/plain": [
       "<Figure size 432x288 with 1 Axes>"
      ]
     },
     "metadata": {
      "needs_background": "light"
     },
     "output_type": "display_data"
    }
   ],
   "source": [
    "plt.figure(figsize=(6,4))\n",
    "plt.plot(combine['Date2'], combine['Close_pred'], label = \"Close Price Predicted\", color = 'Blue', linewidth=2)\n",
    "plt.plot(combine['Date2'], combine['Close'], label = \"Close Price\", color = 'Black', linewidth=2)\n",
    "plt.legend(fontsize=10)\n",
    "plt.title('XRP Predicted vs. Actual Price', fontsize=10)\n",
    "plt.xlabel(\"Date (2021)\", fontsize=10)\n",
    "plt.ylabel(\"Price (In Dollars)\",fontsize=10)\n",
    "plt.xticks(fontsize=8)\n",
    "plt.yticks(fontsize=8)\n",
    "plt.tight_layout()\n",
    "plt.savefig('XRP_Predicted.png')"
   ]
  },
  {
   "cell_type": "code",
   "execution_count": 33,
   "metadata": {},
   "outputs": [
    {
     "name": "stdout",
     "output_type": "stream",
     "text": [
      "Mean absolute error: 0.055999999999999946\n",
      "Mean squared error: 0.004066666666666657\n"
     ]
    }
   ],
   "source": [
    "forecast_errors = [combine['Close'][i]- combine['Close_pred'][i] for i in range(len(combine['Close']))]\n",
    "\n",
    "\n",
    "print('Mean absolute error:', mean_absolute_error(combine['Close'].values, combine['Close_pred'].values))\n",
    "print('Mean squared error:', mean_squared_error(combine['Close'].values, combine['Close_pred'].values))"
   ]
  },
  {
   "cell_type": "code",
   "execution_count": null,
   "metadata": {},
   "outputs": [],
   "source": []
  }
 ],
 "metadata": {
  "kernelspec": {
   "display_name": "Python 3",
   "language": "python",
   "name": "python3"
  },
  "language_info": {
   "codemirror_mode": {
    "name": "ipython",
    "version": 3
   },
   "file_extension": ".py",
   "mimetype": "text/x-python",
   "name": "python",
   "nbconvert_exporter": "python",
   "pygments_lexer": "ipython3",
   "version": "3.7.6"
  }
 },
 "nbformat": 4,
 "nbformat_minor": 4
}
