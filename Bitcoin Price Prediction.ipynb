{
 "cells": [
  {
   "cell_type": "code",
   "execution_count": 16,
   "metadata": {},
   "outputs": [],
   "source": [
    "import statsmodels.api as sm \n",
    "from statsmodels.tsa.stattools import grangercausalitytests\n",
    "import numpy as np\n",
    "import pandas as pd \n",
    "import matplotlib.pyplot as plt\n",
    "from statsmodels.graphics import tsaplots\n",
    "from statsmodels.tsa.stattools import adfuller\n",
    "from statsmodels.tsa.vector_ar.var_model import VAR\n",
    "from statsmodels.stats.stattools import durbin_watson\n",
    "from sklearn.metrics import mean_absolute_error\n",
    "from sklearn.metrics import mean_squared_error\n",
    "import plotly.express as px\n",
    "\n",
    "def excel_to_pandas(path):\n",
    "    \"\"\"This function converts a csv file into a pandas dataframe. \n",
    "    \n",
    "    Parameters:\n",
    "        Path: Where the csv file is located on the device\n",
    "    \n",
    "    Returns a pandas dataframe.\n",
    "    \"\"\"\n",
    "    New = pd.read_excel(path)\n",
    "    return New "
   ]
  },
  {
   "cell_type": "markdown",
   "metadata": {},
   "source": [
    "**1. Calling in the combined Yahoo Finance and Google Trends data**"
   ]
  },
  {
   "cell_type": "code",
   "execution_count": 17,
   "metadata": {},
   "outputs": [],
   "source": [
    "Trends_and_Price = excel_to_pandas('/Users/jacobkuhlman/Desktop/Final Project DA /Google Trends and Price/Trends_and_Price_Year.xlsx')"
   ]
  },
  {
   "cell_type": "markdown",
   "metadata": {},
   "source": [
    "**2. Extracting just the Bitcoin data**"
   ]
  },
  {
   "cell_type": "code",
   "execution_count": 18,
   "metadata": {},
   "outputs": [],
   "source": [
    "Bitcoin_Trends = Trends_and_Price.loc[Trends_and_Price['Cryptocurrency_type'] == 'Bitcoin']\n",
    "Bitcoin_Trends = Bitcoin_Trends[['Date','Close', 'Search Volume', 'Volume']]\n",
    "Bitcoin_Trends = Bitcoin_Trends.set_index('Date')\n",
    "Bitcoin_Trends = Bitcoin_Trends.fillna(method = 'pad')"
   ]
  },
  {
   "cell_type": "markdown",
   "metadata": {},
   "source": [
    "**3. Creating a training and testing set**"
   ]
  },
  {
   "cell_type": "code",
   "execution_count": 19,
   "metadata": {},
   "outputs": [
    {
     "name": "stdout",
     "output_type": "stream",
     "text": [
      "(1752, 3) (15, 3)\n"
     ]
    }
   ],
   "source": [
    "n_obs=15\n",
    "\n",
    "X_training, X_testing = Bitcoin_Trends[0:-n_obs], Bitcoin_Trends[-n_obs:]\n",
    "print(X_training.shape, X_testing.shape)"
   ]
  },
  {
   "cell_type": "markdown",
   "metadata": {},
   "source": [
    "**4. Conducting the ADF test**"
   ]
  },
  {
   "cell_type": "code",
   "execution_count": 20,
   "metadata": {},
   "outputs": [
    {
     "name": "stdout",
     "output_type": "stream",
     "text": [
      "ADF Statistic: -8.218239\n",
      "p-value: 0.000000\n",
      "Critical Values:\n",
      "\t1%: -3.434\n",
      "\t5%: -2.863\n",
      "\t10%: -2.568\n",
      "ADF Statistic: -9.856180\n",
      "p-value: 0.000000\n",
      "Critical Values:\n",
      "\t1%: -3.434\n",
      "\t5%: -2.863\n",
      "\t10%: -2.568\n"
     ]
    }
   ],
   "source": [
    "X_transformed = X_training.diff().dropna() \n",
    "transformed_data = X_training.diff().dropna() \n",
    "\n",
    "def ADF(is_time_series):\n",
    "    result = adfuller(is_time_series.values)\n",
    "    print('ADF Statistic: %f' % result[0])\n",
    "    print('p-value: %f' % result[1])\n",
    "    print('Critical Values:')\n",
    "    for key, value in result[4].items():\n",
    "        print('\\t%s: %.3f' % (key, value))\n",
    "\n",
    "        \n",
    "ADF(X_transformed['Close'])\n",
    "ADF(X_transformed['Search Volume'])"
   ]
  },
  {
   "cell_type": "markdown",
   "metadata": {},
   "source": [
    "**5. Conducting the Granger Causality test**"
   ]
  },
  {
   "cell_type": "code",
   "execution_count": 21,
   "metadata": {},
   "outputs": [
    {
     "data": {
      "text/html": [
       "<div>\n",
       "<style scoped>\n",
       "    .dataframe tbody tr th:only-of-type {\n",
       "        vertical-align: middle;\n",
       "    }\n",
       "\n",
       "    .dataframe tbody tr th {\n",
       "        vertical-align: top;\n",
       "    }\n",
       "\n",
       "    .dataframe thead th {\n",
       "        text-align: right;\n",
       "    }\n",
       "</style>\n",
       "<table border=\"1\" class=\"dataframe\">\n",
       "  <thead>\n",
       "    <tr style=\"text-align: right;\">\n",
       "      <th></th>\n",
       "      <th>Close</th>\n",
       "      <th>Search Volume</th>\n",
       "      <th>Volume</th>\n",
       "    </tr>\n",
       "  </thead>\n",
       "  <tbody>\n",
       "    <tr>\n",
       "      <th>Close</th>\n",
       "      <td>1.0000</td>\n",
       "      <td>0.0000</td>\n",
       "      <td>0.0000</td>\n",
       "    </tr>\n",
       "    <tr>\n",
       "      <th>Search Volume</th>\n",
       "      <td>0.0014</td>\n",
       "      <td>1.0000</td>\n",
       "      <td>0.1009</td>\n",
       "    </tr>\n",
       "    <tr>\n",
       "      <th>Volume</th>\n",
       "      <td>0.0000</td>\n",
       "      <td>0.0015</td>\n",
       "      <td>1.0000</td>\n",
       "    </tr>\n",
       "  </tbody>\n",
       "</table>\n",
       "</div>"
      ],
      "text/plain": [
       "                Close  Search Volume  Volume\n",
       "Close          1.0000         0.0000  0.0000\n",
       "Search Volume  0.0014         1.0000  0.1009\n",
       "Volume         0.0000         0.0015  1.0000"
      ]
     },
     "execution_count": 21,
     "metadata": {},
     "output_type": "execute_result"
    }
   ],
   "source": [
    "maxlag = 12\n",
    "test = 'ssr-chi2test'\n",
    "def Granger_Causality(X_training, var, test = 'ssr_chi2test', verbose=False):\n",
    "    dataset = pd.DataFrame(np.zeros((len(var), len(var))), columns=var, index=var) \n",
    "    for c in dataset.columns:\n",
    "        for r in dataset.index:\n",
    "            test_result = grangercausalitytests(X_training[[r,c]], maxlag=maxlag, verbose=False)\n",
    "            p_values = [round(test_result[i+1][0][test][1],4) for i in range(maxlag)]\n",
    "            if verbose: print(f'Y = {r}, X = {c}, P Values = {p_values}')\n",
    "            min_p_value = np.min(p_values)\n",
    "            dataset.loc[r,c] = min_p_value\n",
    "            \n",
    "    return dataset\n",
    "Granger_Causality(Bitcoin_Trends, var = Bitcoin_Trends.columns)"
   ]
  },
  {
   "cell_type": "markdown",
   "metadata": {},
   "source": [
    "**6. Conducting the Vector Autoregression model**"
   ]
  },
  {
   "cell_type": "code",
   "execution_count": 22,
   "metadata": {},
   "outputs": [
    {
     "name": "stderr",
     "output_type": "stream",
     "text": [
      "//anaconda3/lib/python3.7/site-packages/statsmodels/tsa/base/tsa_model.py:219: ValueWarning: A date index has been provided, but it has no associated frequency information and so will be ignored when e.g. forecasting.\n",
      "  ' ignored when e.g. forecasting.', ValueWarning)\n"
     ]
    }
   ],
   "source": [
    "mod = VAR(X_transformed)\n",
    "residual = mod.fit(maxlags=15, ic='aic')"
   ]
  },
  {
   "cell_type": "code",
   "execution_count": 23,
   "metadata": {},
   "outputs": [
    {
     "name": "stdout",
     "output_type": "stream",
     "text": [
      "Close : 2.0\n",
      "Search Volume : 2.0\n",
      "Volume : 1.98\n"
     ]
    }
   ],
   "source": [
    "out = durbin_watson(residual.resid)\n",
    "for col, val in zip(transformed_data.columns, out):\n",
    "    print((col), ':', round(val,2))"
   ]
  },
  {
   "cell_type": "code",
   "execution_count": 24,
   "metadata": {},
   "outputs": [],
   "source": [
    "lag_order = residual.k_ar\n",
    "input_data = X_transformed.values[-lag_order:]\n",
    "prediction = residual.forecast(y=input_data, steps=n_obs)\n",
    "prediction = (pd.DataFrame(prediction, index=X_testing.index, columns=X_testing.columns + '_pred'))"
   ]
  },
  {
   "cell_type": "markdown",
   "metadata": {},
   "source": [
    "**6a. Combining predicted close prices from the model with the actual close prices**"
   ]
  },
  {
   "cell_type": "code",
   "execution_count": 25,
   "metadata": {},
   "outputs": [],
   "source": [
    "def transformation(X_training, prediction):\n",
    "    f = prediction.copy()\n",
    "    columns = X_training.columns\n",
    "    for col in columns:\n",
    "        f[str(col)+'_pred'] = X_training[col].iloc[-1] + f[str(col)+'_pred'].cumsum()\n",
    "        \n",
    "    return f\n",
    "inverted = transformation(X_training, prediction)\n",
    "Predicted_Actual = pd.concat([inverted['Close_pred'], X_testing['Close']], axis=1)\n",
    "Predicted_Actual = Predicted_Actual.round(decimals=2)\n",
    "Predicted_Actual = Predicted_Actual.reset_index()\n",
    "Predicted_Actual = Predicted_Actual.sort_values(by='Date', ascending=False)"
   ]
  },
  {
   "cell_type": "code",
   "execution_count": 26,
   "metadata": {},
   "outputs": [],
   "source": [
    "def get_year(df):\n",
    "    df['Date2'] = df['Date'].str[5:10]\n",
    "    return df\n",
    "Predicted_Actual = get_year(Predicted_Actual)\n",
    "Predicted_Actual = Predicted_Actual.iloc[::-1]"
   ]
  },
  {
   "cell_type": "code",
   "execution_count": 27,
   "metadata": {},
   "outputs": [
    {
     "data": {
      "text/html": [
       "<div>\n",
       "<style scoped>\n",
       "    .dataframe tbody tr th:only-of-type {\n",
       "        vertical-align: middle;\n",
       "    }\n",
       "\n",
       "    .dataframe tbody tr th {\n",
       "        vertical-align: top;\n",
       "    }\n",
       "\n",
       "    .dataframe thead th {\n",
       "        text-align: right;\n",
       "    }\n",
       "</style>\n",
       "<table border=\"1\" class=\"dataframe\">\n",
       "  <thead>\n",
       "    <tr style=\"text-align: right;\">\n",
       "      <th></th>\n",
       "      <th>Date</th>\n",
       "      <th>Close_pred</th>\n",
       "      <th>Close</th>\n",
       "      <th>Date2</th>\n",
       "    </tr>\n",
       "  </thead>\n",
       "  <tbody>\n",
       "    <tr>\n",
       "      <th>0</th>\n",
       "      <td>2021-10-22</td>\n",
       "      <td>62455.68</td>\n",
       "      <td>60692.27</td>\n",
       "      <td>10-22</td>\n",
       "    </tr>\n",
       "    <tr>\n",
       "      <th>1</th>\n",
       "      <td>2021-10-23</td>\n",
       "      <td>62490.88</td>\n",
       "      <td>61393.62</td>\n",
       "      <td>10-23</td>\n",
       "    </tr>\n",
       "    <tr>\n",
       "      <th>2</th>\n",
       "      <td>2021-10-24</td>\n",
       "      <td>61857.85</td>\n",
       "      <td>60930.84</td>\n",
       "      <td>10-24</td>\n",
       "    </tr>\n",
       "    <tr>\n",
       "      <th>3</th>\n",
       "      <td>2021-10-25</td>\n",
       "      <td>62709.37</td>\n",
       "      <td>63039.82</td>\n",
       "      <td>10-25</td>\n",
       "    </tr>\n",
       "    <tr>\n",
       "      <th>4</th>\n",
       "      <td>2021-10-26</td>\n",
       "      <td>61811.60</td>\n",
       "      <td>60363.79</td>\n",
       "      <td>10-26</td>\n",
       "    </tr>\n",
       "    <tr>\n",
       "      <th>5</th>\n",
       "      <td>2021-10-27</td>\n",
       "      <td>62883.78</td>\n",
       "      <td>58482.39</td>\n",
       "      <td>10-27</td>\n",
       "    </tr>\n",
       "    <tr>\n",
       "      <th>6</th>\n",
       "      <td>2021-10-28</td>\n",
       "      <td>62224.04</td>\n",
       "      <td>60622.14</td>\n",
       "      <td>10-28</td>\n",
       "    </tr>\n",
       "    <tr>\n",
       "      <th>7</th>\n",
       "      <td>2021-10-29</td>\n",
       "      <td>63529.04</td>\n",
       "      <td>62227.96</td>\n",
       "      <td>10-29</td>\n",
       "    </tr>\n",
       "    <tr>\n",
       "      <th>8</th>\n",
       "      <td>2021-10-30</td>\n",
       "      <td>62966.29</td>\n",
       "      <td>61888.83</td>\n",
       "      <td>10-30</td>\n",
       "    </tr>\n",
       "    <tr>\n",
       "      <th>9</th>\n",
       "      <td>2021-10-31</td>\n",
       "      <td>63578.51</td>\n",
       "      <td>61318.96</td>\n",
       "      <td>10-31</td>\n",
       "    </tr>\n",
       "    <tr>\n",
       "      <th>10</th>\n",
       "      <td>2021-11-01</td>\n",
       "      <td>62506.95</td>\n",
       "      <td>61004.41</td>\n",
       "      <td>11-01</td>\n",
       "    </tr>\n",
       "    <tr>\n",
       "      <th>11</th>\n",
       "      <td>2021-11-02</td>\n",
       "      <td>63130.34</td>\n",
       "      <td>63226.40</td>\n",
       "      <td>11-02</td>\n",
       "    </tr>\n",
       "    <tr>\n",
       "      <th>12</th>\n",
       "      <td>2021-11-03</td>\n",
       "      <td>62654.60</td>\n",
       "      <td>62970.05</td>\n",
       "      <td>11-03</td>\n",
       "    </tr>\n",
       "    <tr>\n",
       "      <th>13</th>\n",
       "      <td>2021-11-04</td>\n",
       "      <td>62639.85</td>\n",
       "      <td>61452.23</td>\n",
       "      <td>11-04</td>\n",
       "    </tr>\n",
       "    <tr>\n",
       "      <th>14</th>\n",
       "      <td>2021-11-05</td>\n",
       "      <td>63023.22</td>\n",
       "      <td>61125.68</td>\n",
       "      <td>11-05</td>\n",
       "    </tr>\n",
       "  </tbody>\n",
       "</table>\n",
       "</div>"
      ],
      "text/plain": [
       "          Date  Close_pred     Close  Date2\n",
       "0   2021-10-22    62455.68  60692.27  10-22\n",
       "1   2021-10-23    62490.88  61393.62  10-23\n",
       "2   2021-10-24    61857.85  60930.84  10-24\n",
       "3   2021-10-25    62709.37  63039.82  10-25\n",
       "4   2021-10-26    61811.60  60363.79  10-26\n",
       "5   2021-10-27    62883.78  58482.39  10-27\n",
       "6   2021-10-28    62224.04  60622.14  10-28\n",
       "7   2021-10-29    63529.04  62227.96  10-29\n",
       "8   2021-10-30    62966.29  61888.83  10-30\n",
       "9   2021-10-31    63578.51  61318.96  10-31\n",
       "10  2021-11-01    62506.95  61004.41  11-01\n",
       "11  2021-11-02    63130.34  63226.40  11-02\n",
       "12  2021-11-03    62654.60  62970.05  11-03\n",
       "13  2021-11-04    62639.85  61452.23  11-04\n",
       "14  2021-11-05    63023.22  61125.68  11-05"
      ]
     },
     "execution_count": 27,
     "metadata": {},
     "output_type": "execute_result"
    }
   ],
   "source": [
    "Predicted_Actual"
   ]
  },
  {
   "cell_type": "markdown",
   "metadata": {},
   "source": [
    "**6c. Plotting the predicted prices vs the actual prices**"
   ]
  },
  {
   "cell_type": "code",
   "execution_count": 28,
   "metadata": {},
   "outputs": [
    {
     "name": "stderr",
     "output_type": "stream",
     "text": [
      "//anaconda3/lib/python3.7/site-packages/matplotlib/cbook/__init__.py:1402: FutureWarning: Support for multi-dimensional indexing (e.g. `obj[:, None]`) is deprecated and will be removed in a future version.  Convert to a numpy array before indexing instead.\n",
      "  x[:, None]\n",
      "//anaconda3/lib/python3.7/site-packages/matplotlib/axes/_base.py:276: FutureWarning: Support for multi-dimensional indexing (e.g. `obj[:, None]`) is deprecated and will be removed in a future version.  Convert to a numpy array before indexing instead.\n",
      "  x = x[:, np.newaxis]\n",
      "//anaconda3/lib/python3.7/site-packages/matplotlib/axes/_base.py:278: FutureWarning: Support for multi-dimensional indexing (e.g. `obj[:, None]`) is deprecated and will be removed in a future version.  Convert to a numpy array before indexing instead.\n",
      "  y = y[:, np.newaxis]\n"
     ]
    },
    {
     "data": {
      "image/png": "[encoded data removed]",
      "text/plain": [
       "<Figure size 432x288 with 1 Axes>"
      ]
     },
     "metadata": {
      "needs_background": "light"
     },
     "output_type": "display_data"
    }
   ],
   "source": [
    "plt.figure(figsize=(6,4))\n",
    "plt.plot(Predicted_Actual['Date2'], Predicted_Actual['Close_pred'], label = \"Close Price Predicted\", color = 'Blue', linewidth=2)\n",
    "plt.plot(Predicted_Actual['Date2'], Predicted_Actual['Close'], label = \"Close Price\", color = 'Black', linewidth=2)\n",
    "plt.legend(fontsize=10)\n",
    "plt.title('Bitcoin Predicted vs. Actual Price', fontsize=10)\n",
    "plt.xlabel(\"Date (2021)\", fontsize=10)\n",
    "plt.ylabel(\"Price (In Thousands)\",fontsize=10)\n",
    "plt.xticks(fontsize=8)\n",
    "plt.yticks(fontsize=8)\n",
    "plt.tight_layout()\n",
    "plt.savefig('Bitcoin_Predicted.png')"
   ]
  },
  {
   "cell_type": "code",
   "execution_count": 15,
   "metadata": {},
   "outputs": [],
   "source": [
    "Predicted_Actual.to_excel(\"Bitcoin_Predicted.xlsx\")  "
   ]
  },
  {
   "cell_type": "code",
   "execution_count": 45,
   "metadata": {},
   "outputs": [],
   "source": [
    "\n",
    "from sklearn import preprocessing\n",
    "Predicted_Copy = Predicted_Actual[['Close_pred', 'Close']]\n",
    "x = Predicted_Copy.values #returns a numpy array\n",
    "min_max_scaler = preprocessing.MinMaxScaler()\n",
    "x_scaled = min_max_scaler.fit_transform(x)\n",
    "Predicted_Normalized = pd.DataFrame(x_scaled)\n",
    "Predicted_Normalized = Predicted_Normalized.rename(columns={Predicted_Normalized.columns[0]: 'Close_pred'})\n",
    "Predicted_Normalized = Predicted_Normalized.rename(columns={Predicted_Normalized.columns[1]: 'Close'})"
   ]
  },
  {
   "cell_type": "code",
   "execution_count": 46,
   "metadata": {},
   "outputs": [
    {
     "data": {
      "text/plain": [
       "0.10827512984651085"
      ]
     },
     "execution_count": 46,
     "metadata": {},
     "output_type": "execute_result"
    }
   ],
   "source": [
    "from sklearn.metrics import mean_absolute_error\n",
    "from sklearn.metrics import mean_squared_error\n",
    "MAE = mean_absolute_error(Predicted_Normalized['Close'], Predicted_Normalized['Close_pred'])\n",
    "MSE = mean_squared_error(Predicted_Normalized['Close'], Predicted_Normalized['Close_pred'])\n",
    "MAE\n",
    "MSE"
   ]
  }
 ],
 "metadata": {
  "kernelspec": {
   "display_name": "Python 3",
   "language": "python",
   "name": "python3"
  },
  "language_info": {
   "codemirror_mode": {
    "name": "ipython",
    "version": 3
   },
   "file_extension": ".py",
   "mimetype": "text/x-python",
   "name": "python",
   "nbconvert_exporter": "python",
   "pygments_lexer": "ipython3",
   "version": "3.7.6"
  }
 },
 "nbformat": 4,
 "nbformat_minor": 4
}
