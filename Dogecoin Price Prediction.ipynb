{
 "cells": [
  {
   "cell_type": "code",
   "execution_count": 1,
   "metadata": {},
   "outputs": [
    {
     "name": "stderr",
     "output_type": "stream",
     "text": [
      "//anaconda3/lib/python3.7/site-packages/statsmodels/tools/_testing.py:19: FutureWarning: pandas.util.testing is deprecated. Use the functions in the public API at pandas.testing instead.\n",
      "  import pandas.util.testing as tm\n"
     ]
    }
   ],
   "source": [
    "import statsmodels.api as sm \n",
    "from statsmodels.tsa.stattools import grangercausalitytests\n",
    "import numpy as np\n",
    "import pandas as pd \n",
    "import matplotlib.pyplot as plt\n",
    "from statsmodels.graphics import tsaplots\n",
    "from statsmodels.tsa.stattools import adfuller\n",
    "from statsmodels.tsa.vector_ar.var_model import VAR\n",
    "from statsmodels.stats.stattools import durbin_watson\n",
    "from sklearn.metrics import mean_absolute_error\n",
    "\n",
    "def excel_to_pandas(path):\n",
    "    \"\"\"This function converts a csv file into a pandas dataframe. \n",
    "    \n",
    "    Parameters:\n",
    "        Path: Where the csv file is located on the device\n",
    "    \n",
    "    Returns a pandas dataframe.\n",
    "    \"\"\"\n",
    "    New = pd.read_excel(path)\n",
    "    return New "
   ]
  },
  {
   "cell_type": "markdown",
   "metadata": {},
   "source": [
    "**1. Calling in the combined Yahoo Finance and Google Trends data**"
   ]
  },
  {
   "cell_type": "code",
   "execution_count": 2,
   "metadata": {},
   "outputs": [],
   "source": [
    "Trends_and_Price = excel_to_pandas('/Users/jacobkuhlman/Desktop/Final Project DA /Google Trends and Price/Trends_and_Price_Year.xlsx')"
   ]
  },
  {
   "cell_type": "markdown",
   "metadata": {},
   "source": [
    "**2. Extracting just the Dogecoin data**"
   ]
  },
  {
   "cell_type": "code",
   "execution_count": 6,
   "metadata": {},
   "outputs": [],
   "source": [
    "Dogecoin_Trends = Trends_and_Price.loc[Trends_and_Price['Cryptocurrency_type'] == 'Dodgecoin']\n",
    "Dogecoin_Trends = Dogecoin_Trends[['Date','Close', 'Search Volume', 'Volume']]\n",
    "Dogecoin_Trends = Dogecoin_Trends.set_index('Date')\n",
    "Dogecoin_Trends = Dogecoin_Trends.fillna(method = 'pad')"
   ]
  },
  {
   "cell_type": "markdown",
   "metadata": {},
   "source": [
    "**3. Creating a training and testing set**"
   ]
  },
  {
   "cell_type": "code",
   "execution_count": 8,
   "metadata": {},
   "outputs": [
    {
     "name": "stdout",
     "output_type": "stream",
     "text": [
      "(1735, 3) (15, 3)\n"
     ]
    }
   ],
   "source": [
    "n_obs=15\n",
    "#n_obs=50\n",
    "X_train, X_test = Dogecoin_Trends[0:-n_obs], Dogecoin_Trends[-n_obs:]\n",
    "print(X_train.shape, X_test.shape)"
   ]
  },
  {
   "cell_type": "markdown",
   "metadata": {},
   "source": [
    "**4. Conducting the ADF test**"
   ]
  },
  {
   "cell_type": "code",
   "execution_count": 9,
   "metadata": {},
   "outputs": [
    {
     "name": "stdout",
     "output_type": "stream",
     "text": [
      "Augmented Dickey-Fuller Test: Close Price Time Series\n",
      "Augmented Dickey-Fuller Test: Search Volume Time Series\n"
     ]
    }
   ],
   "source": [
    "X_train_transformed = X_train.diff().dropna()\n",
    "transform_data = X_train.diff().dropna()\n",
    "\n",
    "def augmented_dickey_fuller_statistics(time_series):\n",
    "    result = adfuller(time_series.values)\n",
    "    print('ADF Statistic: %f' % result[0])\n",
    "    print('p-value: %f' % result[1])\n",
    "    print('Critical Values:')\n",
    "    for key, value in result[4].items():\n",
    "        print('\\t%s: %.3f' % (key, value))\n",
    "\n",
    "        \n",
    "print('Augmented Dickey-Fuller Test: Close Price Time Series')\n",
    "#augmented_dickey_fuller_statistics(X_train_transformed['Close'])\n",
    "\n",
    "print('Augmented Dickey-Fuller Test: Search Volume Time Series')\n",
    "#augmented_dickey_fuller_statistics(X_train_transformed['Search Volume'])"
   ]
  },
  {
   "cell_type": "markdown",
   "metadata": {},
   "source": [
    "**5. Conducting the Granger Causality test**"
   ]
  },
  {
   "cell_type": "code",
   "execution_count": 11,
   "metadata": {},
   "outputs": [
    {
     "data": {
      "text/html": [
       "<div>\n",
       "<style scoped>\n",
       "    .dataframe tbody tr th:only-of-type {\n",
       "        vertical-align: middle;\n",
       "    }\n",
       "\n",
       "    .dataframe tbody tr th {\n",
       "        vertical-align: top;\n",
       "    }\n",
       "\n",
       "    .dataframe thead th {\n",
       "        text-align: right;\n",
       "    }\n",
       "</style>\n",
       "<table border=\"1\" class=\"dataframe\">\n",
       "  <thead>\n",
       "    <tr style=\"text-align: right;\">\n",
       "      <th></th>\n",
       "      <th>Close</th>\n",
       "      <th>Search Volume</th>\n",
       "      <th>Volume</th>\n",
       "    </tr>\n",
       "  </thead>\n",
       "  <tbody>\n",
       "    <tr>\n",
       "      <th>Close</th>\n",
       "      <td>1.0000</td>\n",
       "      <td>0.1272</td>\n",
       "      <td>0.0000</td>\n",
       "    </tr>\n",
       "    <tr>\n",
       "      <th>Search Volume</th>\n",
       "      <td>0.0148</td>\n",
       "      <td>1.0000</td>\n",
       "      <td>0.3466</td>\n",
       "    </tr>\n",
       "    <tr>\n",
       "      <th>Volume</th>\n",
       "      <td>0.0000</td>\n",
       "      <td>0.0470</td>\n",
       "      <td>1.0000</td>\n",
       "    </tr>\n",
       "  </tbody>\n",
       "</table>\n",
       "</div>"
      ],
      "text/plain": [
       "                Close  Search Volume  Volume\n",
       "Close          1.0000         0.1272  0.0000\n",
       "Search Volume  0.0148         1.0000  0.3466\n",
       "Volume         0.0000         0.0470  1.0000"
      ]
     },
     "execution_count": 11,
     "metadata": {},
     "output_type": "execute_result"
    }
   ],
   "source": [
    "maxlag = 12\n",
    "test = 'ssr-chi2test'\n",
    "def grangers_causality_matrix(X_train, variables, test = 'ssr_chi2test', verbose=False):\n",
    "    dataset = pd.DataFrame(np.zeros((len(variables), len(variables))), columns=variables, index=variables) \n",
    "    for c in dataset.columns:\n",
    "        for r in dataset.index:\n",
    "            test_result = grangercausalitytests(X_train[[r,c]], maxlag=maxlag, verbose=False)\n",
    "            p_values = [round(test_result[i+1][0][test][1],4) for i in range(maxlag)]\n",
    "            if verbose: print(f'Y = {r}, X = {c}, P Values = {p_values}')\n",
    "            min_p_value = np.min(p_values)\n",
    "            dataset.loc[r,c] = min_p_value\n",
    "            #dataset.columns = [var + '_x' for var in variables]\n",
    "            #dataset.index = [var + '_y' for var in variables]\n",
    "    return dataset\n",
    "grangers_causality_matrix(Dogecoin_Trends, variables = Dogecoin_Trends.columns)"
   ]
  }
 ],
 "metadata": {
  "kernelspec": {
   "display_name": "Python 3",
   "language": "python",
   "name": "python3"
  },
  "language_info": {
   "codemirror_mode": {
    "name": "ipython",
    "version": 3
   },
   "file_extension": ".py",
   "mimetype": "text/x-python",
   "name": "python",
   "nbconvert_exporter": "python",
   "pygments_lexer": "ipython3",
   "version": "3.7.6"
  }
 },
 "nbformat": 4,
 "nbformat_minor": 4
}
