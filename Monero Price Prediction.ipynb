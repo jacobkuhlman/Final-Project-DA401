{
 "cells": [
  {
   "cell_type": "code",
   "execution_count": 30,
   "metadata": {},
   "outputs": [],
   "source": [
    "import statsmodels.api as sm \n",
    "from statsmodels.tsa.stattools import grangercausalitytests\n",
    "import numpy as np\n",
    "import pandas as pd \n",
    "import matplotlib.pyplot as plt\n",
    "from statsmodels.graphics import tsaplots\n",
    "from statsmodels.tsa.stattools import adfuller\n",
    "from statsmodels.tsa.vector_ar.var_model import VAR\n",
    "from statsmodels.stats.stattools import durbin_watson\n",
    "from sklearn.metrics import mean_absolute_error\n",
    "\n",
    "def excel_to_pandas(path):\n",
    "    \"\"\"This function converts a csv file into a pandas dataframe. \n",
    "    \n",
    "    Parameters:\n",
    "        Path: Where the csv file is located on the device\n",
    "    \n",
    "    Returns a pandas dataframe.\n",
    "    \"\"\"\n",
    "    New = pd.read_excel(path)\n",
    "    return New "
   ]
  },
  {
   "cell_type": "markdown",
   "metadata": {},
   "source": [
    "**1. Calling in the combined Yahoo Finance and Google Trends data**"
   ]
  },
  {
   "cell_type": "code",
   "execution_count": 20,
   "metadata": {},
   "outputs": [],
   "source": [
    "Trends_and_Price = excel_to_pandas('/Users/jacobkuhlman/Desktop/Final Project DA /Google Trends and Price/Trends_and_Price_Year.xlsx')"
   ]
  },
  {
   "cell_type": "markdown",
   "metadata": {},
   "source": [
    "**2. Extracting just the Monero data**"
   ]
  },
  {
   "cell_type": "code",
   "execution_count": 21,
   "metadata": {},
   "outputs": [],
   "source": [
    "Monero_Trends = Trends_and_Price.loc[Trends_and_Price['Cryptocurrency_type'] == 'Monero']\n",
    "Monero_Trends = Monero_Trends[['Date','Close', 'Search Volume', 'Volume']]\n",
    "Monero_Trends = Monero_Trends.set_index('Date')\n",
    "Monero_Trends = Monero_Trends.fillna(method = 'pad')"
   ]
  },
  {
   "cell_type": "markdown",
   "metadata": {},
   "source": [
    "**3. Creating a training and testing set**"
   ]
  },
  {
   "cell_type": "code",
   "execution_count": 22,
   "metadata": {},
   "outputs": [
    {
     "name": "stdout",
     "output_type": "stream",
     "text": [
      "(1753, 3) (15, 3)\n"
     ]
    }
   ],
   "source": [
    "n_obs=15\n",
    "#n_obs=50\n",
    "X_train, X_test = Monero_Trends[0:-n_obs], Monero_Trends[-n_obs:]\n",
    "print(X_train.shape, X_test.shape)"
   ]
  },
  {
   "cell_type": "markdown",
   "metadata": {},
   "source": [
    "**4. Conducting the ADF test**"
   ]
  },
  {
   "cell_type": "code",
   "execution_count": 33,
   "metadata": {},
   "outputs": [
    {
     "name": "stdout",
     "output_type": "stream",
     "text": [
      "Augmented Dickey-Fuller Test: Close Price Time Series\n",
      "ADF Statistic: -8.571359\n",
      "p-value: 0.000000\n",
      "Critical Values:\n",
      "\t1%: -3.434\n",
      "\t5%: -2.863\n",
      "\t10%: -2.568\n",
      "Augmented Dickey-Fuller Test: Search Volume Time Series\n",
      "ADF Statistic: -17.900557\n",
      "p-value: 0.000000\n",
      "Critical Values:\n",
      "\t1%: -3.434\n",
      "\t5%: -2.863\n",
      "\t10%: -2.568\n"
     ]
    }
   ],
   "source": [
    "X_train_transformed = X_train.diff().dropna()\n",
    "transform_data = X_train.diff().dropna()\n",
    "\n",
    "def augmented_dickey_fuller_statistics(time_series):\n",
    "    result = adfuller(time_series.values)\n",
    "    print('ADF Statistic: %f' % result[0])\n",
    "    print('p-value: %f' % result[1])\n",
    "    print('Critical Values:')\n",
    "    for key, value in result[4].items():\n",
    "        print('\\t%s: %.3f' % (key, value))\n",
    "\n",
    "        \n",
    "#print('Augmented Dickey-Fuller Test: Close Price Time Series')\n",
    "#augmented_dickey_fuller_statistics(X_train_transformed['Close'])\n",
    "\n",
    "#print('Augmented Dickey-Fuller Test: Search Volume Time Series')\n",
    "#augmented_dickey_fuller_statistics(X_train_transformed['Search Volume'])"
   ]
  },
  {
   "cell_type": "markdown",
   "metadata": {},
   "source": [
    "**5. Conducting the Granger Causality test**"
   ]
  },
  {
   "cell_type": "code",
   "execution_count": 24,
   "metadata": {},
   "outputs": [
    {
     "data": {
      "text/html": [
       "<div>\n",
       "<style scoped>\n",
       "    .dataframe tbody tr th:only-of-type {\n",
       "        vertical-align: middle;\n",
       "    }\n",
       "\n",
       "    .dataframe tbody tr th {\n",
       "        vertical-align: top;\n",
       "    }\n",
       "\n",
       "    .dataframe thead th {\n",
       "        text-align: right;\n",
       "    }\n",
       "</style>\n",
       "<table border=\"1\" class=\"dataframe\">\n",
       "  <thead>\n",
       "    <tr style=\"text-align: right;\">\n",
       "      <th></th>\n",
       "      <th>Close</th>\n",
       "      <th>Search Volume</th>\n",
       "      <th>Volume</th>\n",
       "    </tr>\n",
       "  </thead>\n",
       "  <tbody>\n",
       "    <tr>\n",
       "      <th>Close</th>\n",
       "      <td>1.0000</td>\n",
       "      <td>0.1213</td>\n",
       "      <td>0.4566</td>\n",
       "    </tr>\n",
       "    <tr>\n",
       "      <th>Search Volume</th>\n",
       "      <td>0.0000</td>\n",
       "      <td>1.0000</td>\n",
       "      <td>0.0000</td>\n",
       "    </tr>\n",
       "    <tr>\n",
       "      <th>Volume</th>\n",
       "      <td>0.0111</td>\n",
       "      <td>0.0227</td>\n",
       "      <td>1.0000</td>\n",
       "    </tr>\n",
       "  </tbody>\n",
       "</table>\n",
       "</div>"
      ],
      "text/plain": [
       "                Close  Search Volume  Volume\n",
       "Close          1.0000         0.1213  0.4566\n",
       "Search Volume  0.0000         1.0000  0.0000\n",
       "Volume         0.0111         0.0227  1.0000"
      ]
     },
     "execution_count": 24,
     "metadata": {},
     "output_type": "execute_result"
    }
   ],
   "source": [
    "maxlag = 12\n",
    "test = 'ssr-chi2test'\n",
    "def grangers_causality_matrix(X_train, variables, test = 'ssr_chi2test', verbose=False):\n",
    "    dataset = pd.DataFrame(np.zeros((len(variables), len(variables))), columns=variables, index=variables) \n",
    "    for c in dataset.columns:\n",
    "        for r in dataset.index:\n",
    "            test_result = grangercausalitytests(X_train[[r,c]], maxlag=maxlag, verbose=False)\n",
    "            p_values = [round(test_result[i+1][0][test][1],4) for i in range(maxlag)]\n",
    "            if verbose: print(f'Y = {r}, X = {c}, P Values = {p_values}')\n",
    "            min_p_value = np.min(p_values)\n",
    "            dataset.loc[r,c] = min_p_value\n",
    "            #dataset.columns = [var + '_x' for var in variables]\n",
    "            #dataset.index = [var + '_y' for var in variables]\n",
    "    return dataset\n",
    "grangers_causality_matrix(Monero_Trends, variables = Monero_Trends.columns)"
   ]
  }
 ],
 "metadata": {
  "kernelspec": {
   "display_name": "Python 3",
   "language": "python",
   "name": "python3"
  },
  "language_info": {
   "codemirror_mode": {
    "name": "ipython",
    "version": 3
   },
   "file_extension": ".py",
   "mimetype": "text/x-python",
   "name": "python",
   "nbconvert_exporter": "python",
   "pygments_lexer": "ipython3",
   "version": "3.7.6"
  }
 },
 "nbformat": 4,
 "nbformat_minor": 4
}
